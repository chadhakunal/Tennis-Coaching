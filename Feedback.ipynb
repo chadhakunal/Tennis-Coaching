{
 "cells": [
  {
   "cell_type": "markdown",
   "metadata": {},
   "source": [
    "# Feedback POC\n",
    "-----\n",
    "### Init"
   ]
  },
  {
   "cell_type": "code",
   "execution_count": 2,
   "metadata": {},
   "outputs": [],
   "source": [
    "import time\n",
    "import sys\n",
    "import os\n",
    "import PIL\n",
    "import cv2\n",
    "from PIL import ImageFont\n",
    "import matplotlib.pylab as plt\n",
    "import numpy as np\n",
    "import json\n",
    "import torch\n",
    "import pandas as pd\n",
    "\n",
    "sys.path.append(\"./Pose_Service/\")\n",
    "\n",
    "from mpl_toolkits.mplot3d import Axes3D\n",
    "from pose3d_utils.coords import ensure_cartesian\n",
    "from Pose_Service.VideoFrames import VideoFrames\n",
    "\n",
    "\n",
    "from Pose_Service.margipose.data.skeleton import CanonicalSkeletonDesc\n",
    "from Pose_Service.margipose.data_specs import ImageSpecs\n",
    "from Pose_Service.margipose.models import load_model\n",
    "from Pose_Service.margipose.utils import seed_all, init_algorithms, plot_skeleton_on_axes3d, plot_skeleton_on_axes, angleBetween\n"
   ]
  },
  {
   "cell_type": "code",
   "execution_count": 3,
   "metadata": {},
   "outputs": [],
   "source": [
    "CPU = torch.device('cuda:0' if torch.cuda.is_available() else 'cpu')\n",
    "init_algorithms(deterministic=True)\n",
    "torch.set_grad_enabled(False)\n",
    "torch.no_grad()\n",
    "seed_all(12345)"
   ]
  },
  {
   "cell_type": "markdown",
   "metadata": {},
   "source": [
    "### Load Model"
   ]
  },
  {
   "cell_type": "code",
   "execution_count": 4,
   "metadata": {},
   "outputs": [],
   "source": [
    "MODEL_PATH = \"./Pose_Service/pretrained/margipose-mpi3d.pth\""
   ]
  },
  {
   "cell_type": "code",
   "execution_count": 5,
   "metadata": {},
   "outputs": [
    {
     "name": "stdout",
     "output_type": "stream",
     "text": [
      "Details {'type': 'margipose', 'version': '6.0.0', 'settings': {'n_stages': 4, 'axis_permutation': True, 'feature_extractor': 'inceptionv4', 'pixelwise_loss': 'jsd'}}\n",
      "50.3626766204834 (s) to load Model\n"
     ]
    }
   ],
   "source": [
    "start = time.time()\n",
    "model = load_model(MODEL_PATH).to(CPU).eval()\n",
    "end = time.time()\n",
    "print(end-start, \"(s) to load Model\")"
   ]
  },
  {
   "cell_type": "markdown",
   "metadata": {},
   "source": [
    "### Input"
   ]
  },
  {
   "cell_type": "code",
   "execution_count": 6,
   "metadata": {},
   "outputs": [],
   "source": [
    "INPUT_FILE_1 = \"Pose_Service/Input/1.avi\"\n",
    "INPUT_FILE_2 = \"Pose_Service/Input/2.avi\""
   ]
  },
  {
   "cell_type": "code",
   "execution_count": 7,
   "metadata": {},
   "outputs": [
    {
     "name": "stdout",
     "output_type": "stream",
     "text": [
      "480 x 640 Image size\n",
      "83 Initial Frame Total\n",
      "1.8013184070587158 (s) to complete video to frame\n",
      "17 FPS\n",
      "83 Actaul Total Frames\n"
     ]
    }
   ],
   "source": [
    "filename = os.path.basename(INPUT_FILE_1)\n",
    "filename_noext = os.path.splitext(filename)[0]\n",
    "(frameArray_1, fps_1) = VideoFrames.ExtractFrames(INPUT_FILE_1)\n",
    "frameArray_1 = np.asarray(frameArray_1, dtype=np.uint8)"
   ]
  },
  {
   "cell_type": "code",
   "execution_count": 8,
   "metadata": {},
   "outputs": [
    {
     "name": "stdout",
     "output_type": "stream",
     "text": [
      "480 x 640 Image size\n",
      "84 Initial Frame Total\n",
      "1.177354097366333 (s) to complete video to frame\n",
      "17 FPS\n",
      "84 Actaul Total Frames\n"
     ]
    }
   ],
   "source": [
    "filename = os.path.basename(INPUT_FILE_2)\n",
    "filename_noext = os.path.splitext(filename)[0]\n",
    "(frameArray_2, fps_2) = VideoFrames.ExtractFrames(INPUT_FILE_2)\n",
    "frameArray_2 = np.asarray(frameArray_2, dtype=np.uint8)"
   ]
  },
  {
   "cell_type": "markdown",
   "metadata": {},
   "source": [
    "### Get 3D Pose"
   ]
  },
  {
   "cell_type": "code",
   "execution_count": 9,
   "metadata": {},
   "outputs": [],
   "source": [
    "def process_image(image, input_specs):\n",
    "    try:\n",
    "        image: PIL.Image.Image = PIL.Image.open(image, 'r')\n",
    "    except:\n",
    "        pass\n",
    "    if image.width != image.height:\n",
    "        cropSize = min(image.width, image.height)\n",
    "        image = image.crop((image.width/2 - cropSize/2, image.height/2 - cropSize/2,\n",
    "                    image.width/2 + cropSize/2, image.height/2 + cropSize/2))\n",
    "    if image.width < 256:\n",
    "        image = image.resize((256, 256), PIL.Image.ANTIALIAS)\n",
    "    image.thumbnail((input_specs.width, input_specs.height))\n",
    "    return image\n",
    "\n",
    "def get_coordinates(img):\n",
    "    input_specs: ImageSpecs = model.data_specs.input_specs\n",
    "    image = process_image(img, input_specs)\n",
    "    input_image = input_specs.convert(image).to(CPU, torch.float32)\n",
    "    output = model(input_image[None, ...])[0]\n",
    "    norm_skel3d = ensure_cartesian(output.to(CPU, torch.float64), d=3)\n",
    "    coords = norm_skel3d.cpu().numpy()\n",
    "    return coords\n",
    "    \n",
    "def getPose(frameArray):\n",
    "    skel3DArray = np.zeros((frameArray.shape[3], 17, 3), dtype=np.float)\n",
    "    for i in range(frameArray.shape[3]):\n",
    "        print(\"Frame\", i, \"/\", frameArray.shape[3])\n",
    "        img = PIL.Image.fromarray(frameArray[:,:,:,i][..., ::-1])\n",
    "        coords = get_coordinates(img)\n",
    "        skel3DArray[i, :, :] = coords\n",
    "    return skel3DArray"
   ]
  },
  {
   "cell_type": "code",
   "execution_count": 10,
   "metadata": {},
   "outputs": [
    {
     "name": "stdout",
     "output_type": "stream",
     "text": [
      "Frame 0 / 83\n",
      "Frame 1 / 83\n",
      "Frame 2 / 83\n",
      "Frame 3 / 83\n",
      "Frame 4 / 83\n",
      "Frame 5 / 83\n",
      "Frame 6 / 83\n",
      "Frame 7 / 83\n",
      "Frame 8 / 83\n",
      "Frame 9 / 83\n",
      "Frame 10 / 83\n",
      "Frame 11 / 83\n",
      "Frame 12 / 83\n",
      "Frame 13 / 83\n",
      "Frame 14 / 83\n",
      "Frame 15 / 83\n",
      "Frame 16 / 83\n",
      "Frame 17 / 83\n",
      "Frame 18 / 83\n",
      "Frame 19 / 83\n",
      "Frame 20 / 83\n",
      "Frame 21 / 83\n",
      "Frame 22 / 83\n",
      "Frame 23 / 83\n",
      "Frame 24 / 83\n",
      "Frame 25 / 83\n",
      "Frame 26 / 83\n",
      "Frame 27 / 83\n",
      "Frame 28 / 83\n",
      "Frame 29 / 83\n",
      "Frame 30 / 83\n",
      "Frame 31 / 83\n",
      "Frame 32 / 83\n",
      "Frame 33 / 83\n",
      "Frame 34 / 83\n",
      "Frame 35 / 83\n",
      "Frame 36 / 83\n",
      "Frame 37 / 83\n",
      "Frame 38 / 83\n",
      "Frame 39 / 83\n",
      "Frame 40 / 83\n",
      "Frame 41 / 83\n",
      "Frame 42 / 83\n",
      "Frame 43 / 83\n",
      "Frame 44 / 83\n",
      "Frame 45 / 83\n",
      "Frame 46 / 83\n",
      "Frame 47 / 83\n",
      "Frame 48 / 83\n",
      "Frame 49 / 83\n",
      "Frame 50 / 83\n",
      "Frame 51 / 83\n",
      "Frame 52 / 83\n",
      "Frame 53 / 83\n",
      "Frame 54 / 83\n",
      "Frame 55 / 83\n",
      "Frame 56 / 83\n",
      "Frame 57 / 83\n",
      "Frame 58 / 83\n",
      "Frame 59 / 83\n",
      "Frame 60 / 83\n",
      "Frame 61 / 83\n",
      "Frame 62 / 83\n",
      "Frame 63 / 83\n",
      "Frame 64 / 83\n",
      "Frame 65 / 83\n",
      "Frame 66 / 83\n",
      "Frame 67 / 83\n",
      "Frame 68 / 83\n",
      "Frame 69 / 83\n",
      "Frame 70 / 83\n",
      "Frame 71 / 83\n",
      "Frame 72 / 83\n",
      "Frame 73 / 83\n",
      "Frame 74 / 83\n",
      "Frame 75 / 83\n",
      "Frame 76 / 83\n",
      "Frame 77 / 83\n",
      "Frame 78 / 83\n",
      "Frame 79 / 83\n",
      "Frame 80 / 83\n",
      "Frame 81 / 83\n",
      "Frame 82 / 83\n"
     ]
    }
   ],
   "source": [
    "skel3DArray_1 = getPose(frameArray_1)  "
   ]
  },
  {
   "cell_type": "code",
   "execution_count": 11,
   "metadata": {},
   "outputs": [
    {
     "name": "stdout",
     "output_type": "stream",
     "text": [
      "Frame 0 / 84\n",
      "Frame 1 / 84\n",
      "Frame 2 / 84\n",
      "Frame 3 / 84\n",
      "Frame 4 / 84\n",
      "Frame 5 / 84\n",
      "Frame 6 / 84\n",
      "Frame 7 / 84\n",
      "Frame 8 / 84\n",
      "Frame 9 / 84\n",
      "Frame 10 / 84\n",
      "Frame 11 / 84\n",
      "Frame 12 / 84\n",
      "Frame 13 / 84\n",
      "Frame 14 / 84\n",
      "Frame 15 / 84\n",
      "Frame 16 / 84\n",
      "Frame 17 / 84\n",
      "Frame 18 / 84\n",
      "Frame 19 / 84\n",
      "Frame 20 / 84\n",
      "Frame 21 / 84\n",
      "Frame 22 / 84\n",
      "Frame 23 / 84\n",
      "Frame 24 / 84\n",
      "Frame 25 / 84\n",
      "Frame 26 / 84\n",
      "Frame 27 / 84\n",
      "Frame 28 / 84\n",
      "Frame 29 / 84\n",
      "Frame 30 / 84\n",
      "Frame 31 / 84\n",
      "Frame 32 / 84\n",
      "Frame 33 / 84\n",
      "Frame 34 / 84\n",
      "Frame 35 / 84\n",
      "Frame 36 / 84\n",
      "Frame 37 / 84\n",
      "Frame 38 / 84\n",
      "Frame 39 / 84\n",
      "Frame 40 / 84\n",
      "Frame 41 / 84\n",
      "Frame 42 / 84\n",
      "Frame 43 / 84\n",
      "Frame 44 / 84\n",
      "Frame 45 / 84\n",
      "Frame 46 / 84\n",
      "Frame 47 / 84\n",
      "Frame 48 / 84\n",
      "Frame 49 / 84\n",
      "Frame 50 / 84\n",
      "Frame 51 / 84\n",
      "Frame 52 / 84\n",
      "Frame 53 / 84\n",
      "Frame 54 / 84\n",
      "Frame 55 / 84\n",
      "Frame 56 / 84\n",
      "Frame 57 / 84\n",
      "Frame 58 / 84\n",
      "Frame 59 / 84\n",
      "Frame 60 / 84\n",
      "Frame 61 / 84\n",
      "Frame 62 / 84\n",
      "Frame 63 / 84\n",
      "Frame 64 / 84\n",
      "Frame 65 / 84\n",
      "Frame 66 / 84\n",
      "Frame 67 / 84\n",
      "Frame 68 / 84\n",
      "Frame 69 / 84\n",
      "Frame 70 / 84\n",
      "Frame 71 / 84\n",
      "Frame 72 / 84\n",
      "Frame 73 / 84\n",
      "Frame 74 / 84\n",
      "Frame 75 / 84\n",
      "Frame 76 / 84\n",
      "Frame 77 / 84\n",
      "Frame 78 / 84\n",
      "Frame 79 / 84\n",
      "Frame 80 / 84\n",
      "Frame 81 / 84\n",
      "Frame 82 / 84\n",
      "Frame 83 / 84\n"
     ]
    }
   ],
   "source": [
    "skel3DArray_2 = getPose(frameArray_2)  "
   ]
  },
  {
   "cell_type": "code",
   "execution_count": 66,
   "metadata": {},
   "outputs": [],
   "source": [
    "def get_dtw(mat1, mat2):\n",
    "    assert mat1.shape[1]==mat2.shape[1] and mat1.shape[2]==mat2.shape[2]\n",
    "    result = np.zeros((mat1.shape[1], mat1.shape[0], mat2.shape[0]))\n",
    "\n",
    "    # Build Matrix\n",
    "    large_num = 9999\n",
    "    for p in range(result.shape[0]):\n",
    "        for i in range(result.shape[1]):\n",
    "            for j in range(result.shape[2]):\n",
    "                bottom = large_num if i==0 else result[p][i-1][j]\n",
    "                side = large_num if j==0 else result[p][i][j-1]\n",
    "                diagonal = large_num if i==0 or j==0 else result[p][i-1][j-1]\n",
    "                add_val = min(bottom, side, diagonal)\n",
    "                if add_val == large_num:\n",
    "                    add_val = 0\n",
    "                result[p][i][j] = np.linalg.norm(mat1[i][p] - mat2[j][p]) + add_val\n",
    "    \n",
    "    depth = 4\n",
    "    output = []\n",
    "    for p in range(result.shape[0]):\n",
    "        res = []\n",
    "        last_i = result.shape[1]-1\n",
    "        last_j = result.shape[2]-1\n",
    "\n",
    "        while last_i!=0 and last_j!=0:\n",
    "            minimum = result[p][last_i][last_j]\n",
    "            orig_i = last_i\n",
    "            orig_j = last_j\n",
    "            for i in range(depth):\n",
    "                for j in range(depth):\n",
    "                    if result[p][orig_i-i][orig_j-j]==minimum:\n",
    "                        last_i = orig_i - i\n",
    "                        last_j = orig_j - j\n",
    "\n",
    "                    elif result[p][orig_i-i][orig_j-j]<minimum:\n",
    "                        minimum = result[p][orig_i-i][orig_j-j]\n",
    "                        last_i = orig_i - i\n",
    "                        last_j = orig_j - j\n",
    "            res.append((minimum, last_i+1, last_j+1))\n",
    "        output.append(res)\n",
    "    return output"
   ]
  },
  {
   "cell_type": "code",
   "execution_count": 67,
   "metadata": {},
   "outputs": [],
   "source": [
    "output = get_dtw(np.round(skel3DArray_1,3), np.round(skel3DArray_2, 3))"
   ]
  },
  {
   "cell_type": "code",
   "execution_count": 68,
   "metadata": {},
   "outputs": [
    {
     "name": "stdout",
     "output_type": "stream",
     "text": [
      "Keypoint  0\n",
      "Score 8.739505729469531\n",
      "Keypoint  1\n",
      "Score 7.308623275241141\n",
      "Keypoint  2\n",
      "Score 7.192881958001187\n",
      "Keypoint  3\n",
      "Score 12.85070959639587\n",
      "Keypoint  4\n",
      "Score 13.27071227934851\n",
      "Keypoint  5\n",
      "Score 8.649404727547855\n",
      "Keypoint  6\n",
      "Score 9.423793275843607\n",
      "Keypoint  7\n",
      "Score 9.925938960612573\n",
      "Keypoint  8\n",
      "Score 6.673500100925997\n",
      "Keypoint  9\n",
      "Score 11.141762111052994\n",
      "Keypoint  10\n",
      "Score 12.799878986063426\n",
      "Keypoint  11\n",
      "Score 9.008578344353575\n",
      "Keypoint  12\n",
      "Score 8.194958175842393\n",
      "Keypoint  13\n",
      "Score 5.076973465500603\n",
      "Keypoint  14\n",
      "Score 6.850294806555334\n",
      "Keypoint  15\n",
      "Score 6.353621448749661\n",
      "Keypoint  16\n",
      "Score 7.738256556140916\n",
      "\n",
      " Average Score:  8.894081988096774\n"
     ]
    }
   ],
   "source": [
    "avg_score = 0\n",
    "for i, out in enumerate(output):\n",
    "    print(\"Keypoint \", i)\n",
    "    sum_v = 0\n",
    "    for t in out:\n",
    "        sum_v += t[0]\n",
    "    print(\"Score\", sum_v/len(out))\n",
    "    avg_score = avg_score + sum_v/len(out)\n",
    "print(\"\\n Average Score: \", avg_score/len(output))"
   ]
  },
  {
   "cell_type": "code",
   "execution_count": 71,
   "metadata": {},
   "outputs": [
    {
     "data": {
      "text/plain": [
       "(11.851785457709246, 50, 51)"
      ]
     },
     "execution_count": 71,
     "metadata": {},
     "output_type": "execute_result"
    }
   ],
   "source": [
    "output[0][10]"
   ]
  },
  {
   "cell_type": "code",
   "execution_count": 73,
   "metadata": {},
   "outputs": [
    {
     "data": {
      "image/png": "[encoded data removed]",
      "text/plain": [
       "<Figure size 432x288 with 1 Axes>"
      ]
     },
     "metadata": {
      "needs_background": "light"
     },
     "output_type": "display_data"
    }
   ],
   "source": [
    "import matplotlib.pyplot as plt\n",
    "# plot_coords = coords.T\n",
    "# plot_coords = plot_coords*100\n",
    "coords = skel3DArray_1[20]\n",
    "ax = plt.axes(projection='3d')\n",
    "ax.set_xlabel('X', fontsize=10)\n",
    "ax.set_ylabel('Y', fontsize=10)\n",
    "ax.set_zlabel('Z', fontsize=10)\n",
    "\n",
    "x=0\n",
    "y=2\n",
    "z=1\n",
    "ax.set_xlim(-.8, .8)\n",
    "ax.set_ylim(-.5, .5)\n",
    "ax.set_zlim(-.8, .5)\n",
    "ax.set_xticklabels([])\n",
    "ax.set_yticklabels([])\n",
    "ax.set_zticklabels([])\n",
    "ax.set_aspect('equal')\n",
    "ax.invert_zaxis()\n",
    "for coord in coords:\n",
    "    ax.scatter3D(coord[x], coord[y], coord[z], c='0', cmap='Greens')\n",
    "    \n",
    "center_joints = [[0, 16], [16, 1], [1, 15], [15, 14]]\n",
    "for joint in center_joints:\n",
    "    ax.plot3D([coords[joint[0]][x], coords[joint[1]][x]], [coords[joint[0]][y], coords[joint[1]][y]], [coords[joint[0]][z], coords[joint[1]][z]],'red')\n",
    "    \n",
    "right_joints = [[1,2], [2,3], [3,4], [14,8], [8,9], [9,10]]\n",
    "for joint in right_joints:\n",
    "    ax.plot3D([coords[joint[0]][x], coords[joint[1]][x]], [coords[joint[0]][y], coords[joint[1]][y]], [coords[joint[0]][z], coords[joint[1]][z]],'green')\n",
    "    \n",
    "left_joints = [[1,5], [5,6], [6,7], [14,11], [11, 12], [12, 13]]\n",
    "for joint in left_joints:\n",
    "    ax.plot3D([coords[joint[0]][x], coords[joint[1]][x]], [coords[joint[0]][y], coords[joint[1]][y]], [coords[joint[0]][z], coords[joint[1]][z]],'blue')\n",
    "    "
   ]
  },
  {
   "cell_type": "code",
   "execution_count": null,
   "metadata": {},
   "outputs": [],
   "source": []
  },
  {
   "cell_type": "code",
   "execution_count": 77,
   "metadata": {},
   "outputs": [
    {
     "data": {
      "image/png": "[encoded data removed]",
      "text/plain": [
       "<Figure size 432x288 with 1 Axes>"
      ]
     },
     "metadata": {
      "needs_background": "light"
     },
     "output_type": "display_data"
    }
   ],
   "source": [
    "import matplotlib.pyplot as plt\n",
    "# plot_coords = coords.T\n",
    "# plot_coords = plot_coords*100\n",
    "coords = skel3DArray_2[10]\n",
    "ax = plt.axes(projection='3d')\n",
    "ax.set_xlabel('X', fontsize=10)\n",
    "ax.set_ylabel('Y', fontsize=10)\n",
    "ax.set_zlabel('Z', fontsize=10)\n",
    "\n",
    "x=0\n",
    "y=2\n",
    "z=1\n",
    "ax.set_xlim(-.8, .8)\n",
    "ax.set_ylim(-.5, .5)\n",
    "ax.set_zlim(-.8, .5)\n",
    "ax.set_xticklabels([])\n",
    "ax.set_yticklabels([])\n",
    "ax.set_zticklabels([])\n",
    "ax.set_aspect('equal')\n",
    "ax.invert_zaxis()\n",
    "for coord in coords:\n",
    "    ax.scatter3D(coord[x], coord[y], coord[z], c='0', cmap='Greens')\n",
    "    \n",
    "center_joints = [[0, 16], [16, 1], [1, 15], [15, 14]]\n",
    "for joint in center_joints:\n",
    "    ax.plot3D([coords[joint[0]][x], coords[joint[1]][x]], [coords[joint[0]][y], coords[joint[1]][y]], [coords[joint[0]][z], coords[joint[1]][z]],'red')\n",
    "    \n",
    "right_joints = [[1,2], [2,3], [3,4], [14,8], [8,9], [9,10]]\n",
    "for joint in right_joints:\n",
    "    ax.plot3D([coords[joint[0]][x], coords[joint[1]][x]], [coords[joint[0]][y], coords[joint[1]][y]], [coords[joint[0]][z], coords[joint[1]][z]],'green')\n",
    "    \n",
    "left_joints = [[1,5], [5,6], [6,7], [14,11], [11, 12], [12, 13]]\n",
    "for joint in left_joints:\n",
    "    ax.plot3D([coords[joint[0]][x], coords[joint[1]][x]], [coords[joint[0]][y], coords[joint[1]][y]], [coords[joint[0]][z], coords[joint[1]][z]],'blue')\n",
    "    "
   ]
  },
  {
   "cell_type": "code",
   "execution_count": null,
   "metadata": {},
   "outputs": [],
   "source": []
  },
  {
   "cell_type": "code",
   "execution_count": 11,
   "metadata": {},
   "outputs": [],
   "source": [
    "import matplotlib.pyplot as plt"
   ]
  },
  {
   "cell_type": "code",
   "execution_count": 37,
   "metadata": {},
   "outputs": [
    {
     "data": {
      "text/plain": [
       "<mpl_toolkits.mplot3d.art3d.Path3DCollection at 0x7f42949b42b0>"
      ]
     },
     "execution_count": 37,
     "metadata": {},
     "output_type": "execute_result"
    },
    {
     "data": {
      "image/png": "[encoded data removed]",
      "text/plain": [
       "<Figure size 432x288 with 1 Axes>"
      ]
     },
     "metadata": {
      "needs_background": "light"
     },
     "output_type": "display_data"
    }
   ],
   "source": [
    "ax = plt.axes(projection='3d')\n",
    "ax.set_xlabel('X', fontsize=10)\n",
    "ax.set_ylabel('Y', fontsize=10)\n",
    "ax.set_zlabel('Z', fontsize=10)\n",
    "x=0\n",
    "y=2\n",
    "z=1\n",
    "ax.set_xlim(-.8, .8)\n",
    "ax.set_ylim(-.5, .5)\n",
    "ax.set_zlim(-.8, .5)\n",
    "ax.set_xticklabels([])\n",
    "ax.set_yticklabels([])\n",
    "ax.set_zticklabels([])\n",
    "ax.set_aspect('equal')\n",
    "ax.invert_zaxis()\n",
    "\n",
    "xs = []\n",
    "ys = []\n",
    "zs = []\n",
    "\n",
    "ind = 3\n",
    "\n",
    "for coords in skel3DArray_1:\n",
    "    xs.append(coords[ind][x])\n",
    "    ys.append(coords[ind][y])\n",
    "    zs.append(coords[ind][z])\n",
    "\n",
    "ax.scatter3D(skel3DArray_1[0][ind][x], skel3DArray_1[0][ind][y], skel3DArray_1[0][ind][z], c='cyan')\n",
    "ax.plot3D(xs, ys, zs, 'green')\n",
    "last = len(skel3DArray_1)-1\n",
    "ax.scatter3D(skel3DArray_1[last][ind][x], skel3DArray_1[last][ind][y], skel3DArray_1[last][ind][z], c='blue')\n",
    "\n",
    "xs = []\n",
    "ys = []\n",
    "zs = []\n",
    "for coords in skel3DArray_2:\n",
    "    xs.append(coords[ind][x])\n",
    "    ys.append(coords[ind][y])\n",
    "    zs.append(coords[ind][z])\n",
    "\n",
    "ax.scatter3D(skel3DArray_2[0][ind][x], skel3DArray_2[0][ind][y], skel3DArray_2[0][ind][z], c=\"orange\")\n",
    "ax.plot3D(xs, ys, zs, 'red')\n",
    "last = len(skel3DArray_2)-1\n",
    "ax.scatter3D(skel3DArray_2[last][ind][x], skel3DArray_2[last][ind][y], skel3DArray_2[last][ind][z], c=\"yellow\")"
   ]
  },
  {
   "cell_type": "code",
   "execution_count": 15,
   "metadata": {},
   "outputs": [
    {
     "data": {
      "text/plain": [
       "array([[[ 1.21787842e-02, -7.43364453e-01, -2.77611494e-01],\n",
       "        [ 2.97026671e-02, -5.12722969e-01, -1.72238693e-01],\n",
       "        [-1.14050835e-01, -4.16425526e-01, -1.32913038e-01],\n",
       "        ...,\n",
       "        [ 3.71736661e-02,  4.11336310e-02, -4.12428379e-03],\n",
       "        [ 3.84191945e-02, -1.96498305e-01, -6.57785013e-02],\n",
       "        [ 2.10556537e-02, -6.27779007e-01, -2.23624647e-01]],\n",
       "\n",
       "       [[ 2.54232436e-05, -7.44713962e-01, -3.01099956e-01],\n",
       "        [ 2.07552351e-02, -5.14942408e-01, -1.83584809e-01],\n",
       "        [-1.20778821e-01, -4.17297602e-01, -1.38713330e-01],\n",
       "        ...,\n",
       "        [ 3.14903259e-02,  2.84208860e-02, -4.82155848e-03],\n",
       "        [ 2.85249241e-02, -2.03391448e-01, -7.57912695e-02],\n",
       "        [ 9.79221053e-03, -6.29813731e-01, -2.37405181e-01]],\n",
       "\n",
       "       [[-4.86270338e-03, -7.43380666e-01, -3.09133291e-01],\n",
       "        [ 1.71054211e-02, -5.13542175e-01, -1.83357865e-01],\n",
       "        [-1.24878541e-01, -4.14229900e-01, -1.32940382e-01],\n",
       "        ...,\n",
       "        [ 2.61796452e-02,  2.76687890e-02, -5.37062623e-03],\n",
       "        [ 2.47779302e-02, -2.02059820e-01, -7.54900724e-02],\n",
       "        [ 5.61523810e-03, -6.27890468e-01, -2.38289624e-01]],\n",
       "\n",
       "       ...,\n",
       "\n",
       "       [[ 1.29130661e-01, -7.30111659e-01, -2.74977267e-01],\n",
       "        [ 1.12835810e-01, -5.00933945e-01, -1.45206213e-01],\n",
       "        [-5.07108867e-02, -4.28309530e-01, -1.10161543e-01],\n",
       "        ...,\n",
       "        [ 8.13034847e-02,  1.14518348e-02,  1.13311037e-03],\n",
       "        [ 9.58326012e-02, -2.10350558e-01, -4.98714000e-02],\n",
       "        [ 1.21027768e-01, -6.14680648e-01, -1.99122086e-01]],\n",
       "\n",
       "       [[ 1.17205858e-01, -7.33678102e-01, -2.57108867e-01],\n",
       "        [ 1.04780957e-01, -5.05863667e-01, -1.34591937e-01],\n",
       "        [-5.83438650e-02, -4.28772449e-01, -1.02708787e-01],\n",
       "        ...,\n",
       "        [ 8.06586519e-02,  1.21869929e-02, -3.26064415e-04],\n",
       "        [ 9.11005065e-02, -2.10214227e-01, -4.67855334e-02],\n",
       "        [ 1.11011341e-01, -6.19284749e-01, -1.86325848e-01]],\n",
       "\n",
       "       [[ 8.97179767e-02, -7.36401081e-01, -2.65228510e-01],\n",
       "        [ 8.76024365e-02, -5.04746258e-01, -1.45112246e-01],\n",
       "        [-7.26175979e-02, -4.30331290e-01, -1.13809824e-01],\n",
       "        ...,\n",
       "        [ 6.02254160e-02,  2.96125188e-02,  1.22844148e-03],\n",
       "        [ 7.38770068e-02, -2.03729987e-01, -5.38268015e-02],\n",
       "        [ 8.90479535e-02, -6.20012820e-01, -1.98004365e-01]]])"
      ]
     },
     "execution_count": 15,
     "metadata": {},
     "output_type": "execute_result"
    }
   ],
   "source": [
    "outskel3D = cv2.VideoWriter('./outputs/'+'skel.avi', cv2.VideoWriter_fourcc(*'DIVX'), 17, (skel3DArray_1.shape[2],skel3DArray_1.shape[1]))\n",
    "\n",
    "for i in range(skel3DArray.shape[3]):\n",
    "    outskel3D.write(skel3DArray[:,:,:,i])\n",
    "outskel3D.release()"
   ]
  },
  {
   "cell_type": "code",
   "execution_count": 16,
   "metadata": {},
   "outputs": [
    {
     "data": {
      "text/plain": [
       "(83, 17, 3)"
      ]
     },
     "execution_count": 16,
     "metadata": {},
     "output_type": "execute_result"
    }
   ],
   "source": [
    "skel3DArray_1.shape"
   ]
  },
  {
   "cell_type": "code",
   "execution_count": null,
   "metadata": {},
   "outputs": [],
   "source": []
  },
  {
   "cell_type": "code",
   "execution_count": null,
   "metadata": {},
   "outputs": [],
   "source": []
  },
  {
   "cell_type": "code",
   "execution_count": null,
   "metadata": {},
   "outputs": [],
   "source": []
  }
 ],
 "metadata": {
  "kernelspec": {
   "display_name": "Python 3",
   "language": "python",
   "name": "python3"
  },
  "language_info": {
   "codemirror_mode": {
    "name": "ipython",
    "version": 3
   },
   "file_extension": ".py",
   "mimetype": "text/x-python",
   "name": "python",
   "nbconvert_exporter": "python",
   "pygments_lexer": "ipython3",
   "version": "3.7.3"
  }
 },
 "nbformat": 4,
 "nbformat_minor": 2
}
