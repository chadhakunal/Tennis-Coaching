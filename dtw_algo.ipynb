{
 "cells": [
  {
   "cell_type": "code",
   "execution_count": 39,
   "metadata": {},
   "outputs": [],
   "source": [
    "import pandas as pd\n",
    "import numpy as np"
   ]
  },
  {
   "cell_type": "code",
   "execution_count": 79,
   "metadata": {},
   "outputs": [],
   "source": [
    "mat1 = np.random.randint(10, size=(4, 2, 3))\n",
    "mat2 = np.random.randint(10, size=(3, 2, 3))\n",
    "assert mat1.shape[1]==mat2.shape[1] and mat1.shape[2]==mat2.shape[2]"
   ]
  },
  {
   "cell_type": "code",
   "execution_count": 80,
   "metadata": {},
   "outputs": [
    {
     "data": {
      "text/plain": [
       "array([[[3, 9, 8],\n",
       "        [4, 3, 1]],\n",
       "\n",
       "       [[8, 9, 9],\n",
       "        [5, 9, 6]],\n",
       "\n",
       "       [[3, 9, 7],\n",
       "        [7, 5, 3]],\n",
       "\n",
       "       [[7, 9, 3],\n",
       "        [9, 2, 4]]])"
      ]
     },
     "execution_count": 80,
     "metadata": {},
     "output_type": "execute_result"
    }
   ],
   "source": [
    "mat1"
   ]
  },
  {
   "cell_type": "code",
   "execution_count": 81,
   "metadata": {},
   "outputs": [
    {
     "data": {
      "text/plain": [
       "array([[[3, 9, 4],\n",
       "        [1, 0, 0]],\n",
       "\n",
       "       [[6, 1, 6],\n",
       "        [8, 8, 2]],\n",
       "\n",
       "       [[4, 6, 2],\n",
       "        [0, 2, 4]]])"
      ]
     },
     "execution_count": 81,
     "metadata": {},
     "output_type": "execute_result"
    }
   ],
   "source": [
    "mat2"
   ]
  },
  {
   "cell_type": "code",
   "execution_count": 82,
   "metadata": {},
   "outputs": [],
   "source": [
    "result = np.zeros((mat1.shape[1], mat1.shape[0], mat2.shape[0]))"
   ]
  },
  {
   "cell_type": "code",
   "execution_count": 83,
   "metadata": {},
   "outputs": [],
   "source": [
    "large_num = 9999\n",
    "for p in range(result.shape[0]):\n",
    "    for i in range(result.shape[1]):\n",
    "        for j in range(result.shape[2]):\n",
    "            bottom = large_num if i==0 else result[p][i-1][j]\n",
    "            side = large_num if j==0 else result[p][i][j-1]\n",
    "            diagonal = large_num if i==0 or j==0 else result[p][i-1][j-1]\n",
    "            add_val = min(bottom, side, diagonal)\n",
    "            if add_val == large_num:\n",
    "                add_val = 0\n",
    "            result[p][i][j] = np.linalg.norm(mat1[i][p] - mat2[j][p]) + add_val\n",
    "            "
   ]
  },
  {
   "cell_type": "code",
   "execution_count": 84,
   "metadata": {},
   "outputs": [
    {
     "data": {
      "text/plain": [
       "array([[[ 4.        , 12.77496439, 19.55729437],\n",
       "        [11.07106781, 12.77496439, 21.37728965],\n",
       "        [14.07106781, 19.67339308, 18.69104417],\n",
       "        [18.19417344, 22.67339308, 23.04994311]],\n",
       "\n",
       "       [[ 4.35889894, 10.83963964, 15.93865916],\n",
       "        [15.89146154,  9.45791846, 18.28967932],\n",
       "        [24.2580618 , 12.77454325, 17.13906421],\n",
       "        [33.42321319, 19.17766748, 21.77454325]]])"
      ]
     },
     "execution_count": 84,
     "metadata": {},
     "output_type": "execute_result"
    }
   ],
   "source": [
    "result"
   ]
  },
  {
   "cell_type": "code",
   "execution_count": 85,
   "metadata": {},
   "outputs": [],
   "source": [
    "depth = 2\n",
    "output = []\n",
    "for p in range(result.shape[0]):\n",
    "    res = []\n",
    "    last_i = result.shape[1]-1\n",
    "    last_j = result.shape[2]-1\n",
    "    \n",
    "    while last_i!=0 and last_j!=0:\n",
    "        minimum = result[p][last_i][last_j]\n",
    "        orig_i = last_i\n",
    "        orig_j = last_j\n",
    "        for i in range(depth):\n",
    "            for j in range(depth):\n",
    "                if result[p][orig_i-i][orig_j-j]==minimum:\n",
    "                    last_i = orig_i - i\n",
    "                    last_j = orig_j - j\n",
    "                    \n",
    "                elif result[p][orig_i-i][orig_j-j]<minimum:\n",
    "                    minimum = result[p][orig_i-i][orig_j-j]\n",
    "                    last_i = orig_i - i\n",
    "                    last_j = orig_j - j\n",
    "        res.append((minimum, last_i+1, last_j+1))\n",
    "    output.append(res)"
   ]
  },
  {
   "cell_type": "code",
   "execution_count": 86,
   "metadata": {},
   "outputs": [
    {
     "data": {
      "text/plain": [
       "[[(18.69104417049174, 3, 3), (12.774964387392123, 2, 2), (4.0, 1, 1)],\n",
       " [(12.77454324748886, 3, 2),\n",
       "  (9.45791845713346, 2, 2),\n",
       "  (4.358898943540674, 1, 1)]]"
      ]
     },
     "execution_count": 86,
     "metadata": {},
     "output_type": "execute_result"
    }
   ],
   "source": [
    "output"
   ]
  },
  {
   "cell_type": "code",
   "execution_count": 87,
   "metadata": {},
   "outputs": [
    {
     "name": "stdout",
     "output_type": "stream",
     "text": [
      "Keypoint  0\n",
      "Score 11.822002852627953\n",
      "Keypoint  1\n",
      "Score 8.863786882720996\n"
     ]
    }
   ],
   "source": [
    "for i, out in enumerate(output):\n",
    "    print(\"Keypoint \", i)\n",
    "    sum_v = 0\n",
    "    for t in out:\n",
    "        sum_v += t[0]\n",
    "    print(\"Score\", sum_v/len(out))"
   ]
  },
  {
   "cell_type": "code",
   "execution_count": null,
   "metadata": {},
   "outputs": [],
   "source": []
  },
  {
   "cell_type": "code",
   "execution_count": null,
   "metadata": {},
   "outputs": [],
   "source": []
  },
  {
   "cell_type": "code",
   "execution_count": null,
   "metadata": {},
   "outputs": [],
   "source": []
  },
  {
   "cell_type": "code",
   "execution_count": null,
   "metadata": {},
   "outputs": [],
   "source": []
  },
  {
   "cell_type": "code",
   "execution_count": null,
   "metadata": {},
   "outputs": [],
   "source": []
  }
 ],
 "metadata": {
  "kernelspec": {
   "display_name": "Python 3",
   "language": "python",
   "name": "python3"
  },
  "language_info": {
   "codemirror_mode": {
    "name": "ipython",
    "version": 3
   },
   "file_extension": ".py",
   "mimetype": "text/x-python",
   "name": "python",
   "nbconvert_exporter": "python",
   "pygments_lexer": "ipython3",
   "version": "3.7.3"
  }
 },
 "nbformat": 4,
 "nbformat_minor": 4
}
